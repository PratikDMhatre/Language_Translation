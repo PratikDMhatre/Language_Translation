{
 "cells": [
  {
   "cell_type": "code",
   "execution_count": 1,
   "id": "d937a81b",
   "metadata": {
    "_cell_guid": "b1076dfc-b9ad-4769-8c92-a6c4dae69d19",
    "_uuid": "8f2839f25d086af736a60e9eeb907d3b93b6e0e5",
    "execution": {
     "iopub.execute_input": "2022-09-12T20:53:07.184570Z",
     "iopub.status.busy": "2022-09-12T20:53:07.183992Z",
     "iopub.status.idle": "2022-09-12T20:53:07.210429Z",
     "shell.execute_reply": "2022-09-12T20:53:07.209465Z"
    },
    "papermill": {
     "duration": 0.0532,
     "end_time": "2022-09-12T20:53:07.214668",
     "exception": false,
     "start_time": "2022-09-12T20:53:07.161468",
     "status": "completed"
    },
    "tags": []
   },
   "outputs": [
    {
     "name": "stdout",
     "output_type": "stream",
     "text": [
      "/kaggle/input/project1/Hindi_English.csv\n"
     ]
    }
   ],
   "source": [
    "# This Python 3 environment comes with many helpful analytics libraries installed\n",
    "# It is defined by the kaggle/python Docker image: https://github.com/kaggle/docker-python\n",
    "# For example, here's several helpful packages to load\n",
    "\n",
    "import numpy as np # linear algebra\n",
    "import pandas as pd # data processing, CSV file I/O (e.g. pd.read_csv)\n",
    "\n",
    "# Input data files are available in the read-only \"../input/\" directory\n",
    "# For example, running this (by clicking run or pressing Shift+Enter) will list all files under the input directory\n",
    "\n",
    "import os\n",
    "for dirname, _, filenames in os.walk('/kaggle/input'):\n",
    "    for filename in filenames:\n",
    "        print(os.path.join(dirname, filename))\n",
    "\n",
    "# You can write up to 20GB to the current directory (/kaggle/working/) that gets preserved as output when you create a version using \"Save & Run All\" \n",
    "# You can also write temporary files to /kaggle/temp/, but they won't be saved outside of the current session"
   ]
  },
  {
   "cell_type": "code",
   "execution_count": 2,
   "id": "78c3c998",
   "metadata": {
    "execution": {
     "iopub.execute_input": "2022-09-12T20:53:07.241454Z",
     "iopub.status.busy": "2022-09-12T20:53:07.240558Z",
     "iopub.status.idle": "2022-09-12T20:53:13.600831Z",
     "shell.execute_reply": "2022-09-12T20:53:13.599884Z"
    },
    "papermill": {
     "duration": 6.378655,
     "end_time": "2022-09-12T20:53:13.605340",
     "exception": false,
     "start_time": "2022-09-12T20:53:07.226685",
     "status": "completed"
    },
    "tags": []
   },
   "outputs": [
    {
     "name": "stdout",
     "output_type": "stream",
     "text": [
      "['project1']\n"
     ]
    },
    {
     "name": "stderr",
     "output_type": "stream",
     "text": [
      "/opt/conda/lib/python3.7/site-packages/ipykernel_launcher.py:23: FutureWarning: Passing a negative integer is deprecated in version 1.0 and will not be supported in future version. Instead, use None to not limit the column width.\n"
     ]
    }
   ],
   "source": [
    "# Input data files are available in the \"../input/\" directory.\n",
    "# For example, running this (by clicking run or pressing Shift+Enter) will list the files in the input directory\n",
    "\n",
    "import os\n",
    "import string\n",
    "from string import digits\n",
    "import matplotlib.pyplot as plt\n",
    "%matplotlib inline\n",
    "import re\n",
    "\n",
    "import seaborn as sns\n",
    "from sklearn.utils import shuffle\n",
    "from sklearn.model_selection import train_test_split\n",
    "from keras.layers import Input, LSTM, Embedding, Dense, Dropout\n",
    "from keras.layers import CuDNNLSTM, TimeDistributed\n",
    "from keras.models import Model\n",
    "\n",
    "print(os.listdir(\"../input\"))\n",
    "\n",
    "pd.set_option('display.max_rows', 500)\n",
    "pd.set_option('display.max_columns', 500)\n",
    "pd.set_option('display.width', 1000)\n",
    "pd.set_option('display.max_colwidth', -1)"
   ]
  },
  {
   "cell_type": "code",
   "execution_count": 3,
   "id": "4a187da7",
   "metadata": {
    "execution": {
     "iopub.execute_input": "2022-09-12T20:53:13.625485Z",
     "iopub.status.busy": "2022-09-12T20:53:13.623722Z",
     "iopub.status.idle": "2022-09-12T20:53:14.709677Z",
     "shell.execute_reply": "2022-09-12T20:53:14.708639Z"
    },
    "papermill": {
     "duration": 1.097718,
     "end_time": "2022-09-12T20:53:14.712047",
     "exception": false,
     "start_time": "2022-09-12T20:53:13.614329",
     "status": "completed"
    },
    "tags": []
   },
   "outputs": [],
   "source": [
    "lines=pd.read_csv(\"../input/project1/Hindi_English.csv\",encoding='utf-8')"
   ]
  },
  {
   "cell_type": "code",
   "execution_count": 4,
   "id": "3fad3c94",
   "metadata": {
    "execution": {
     "iopub.execute_input": "2022-09-12T20:53:14.730032Z",
     "iopub.status.busy": "2022-09-12T20:53:14.729721Z",
     "iopub.status.idle": "2022-09-12T20:53:14.753736Z",
     "shell.execute_reply": "2022-09-12T20:53:14.752819Z"
    },
    "papermill": {
     "duration": 0.035331,
     "end_time": "2022-09-12T20:53:14.755828",
     "exception": false,
     "start_time": "2022-09-12T20:53:14.720497",
     "status": "completed"
    },
    "tags": []
   },
   "outputs": [
    {
     "data": {
      "text/plain": [
       "tides        50000\n",
       "ted          39881\n",
       "indic2012    37726\n",
       "Name: source, dtype: int64"
      ]
     },
     "execution_count": 4,
     "metadata": {},
     "output_type": "execute_result"
    }
   ],
   "source": [
    "lines['source'].value_counts()"
   ]
  },
  {
   "cell_type": "code",
   "execution_count": 5,
   "id": "5b381469",
   "metadata": {
    "execution": {
     "iopub.execute_input": "2022-09-12T20:53:14.775488Z",
     "iopub.status.busy": "2022-09-12T20:53:14.774786Z",
     "iopub.status.idle": "2022-09-12T20:53:14.789752Z",
     "shell.execute_reply": "2022-09-12T20:53:14.788892Z"
    },
    "papermill": {
     "duration": 0.026703,
     "end_time": "2022-09-12T20:53:14.791721",
     "exception": false,
     "start_time": "2022-09-12T20:53:14.765018",
     "status": "completed"
    },
    "tags": []
   },
   "outputs": [
    {
     "data": {
      "text/html": [
       "<div>\n",
       "<style scoped>\n",
       "    .dataframe tbody tr th:only-of-type {\n",
       "        vertical-align: middle;\n",
       "    }\n",
       "\n",
       "    .dataframe tbody tr th {\n",
       "        vertical-align: top;\n",
       "    }\n",
       "\n",
       "    .dataframe thead th {\n",
       "        text-align: right;\n",
       "    }\n",
       "</style>\n",
       "<table border=\"1\" class=\"dataframe\">\n",
       "  <thead>\n",
       "    <tr style=\"text-align: right;\">\n",
       "      <th></th>\n",
       "      <th>source</th>\n",
       "      <th>english_sentence</th>\n",
       "      <th>hindi_sentence</th>\n",
       "    </tr>\n",
       "  </thead>\n",
       "  <tbody>\n",
       "    <tr>\n",
       "      <th>0</th>\n",
       "      <td>ted</td>\n",
       "      <td>politicians do not have permission to do what needs to be done.</td>\n",
       "      <td>राजनीतिज्ञों के पास जो कार्य करना चाहिए, वह करने कि अनुमति नहीं है .</td>\n",
       "    </tr>\n",
       "    <tr>\n",
       "      <th>1</th>\n",
       "      <td>ted</td>\n",
       "      <td>I'd like to tell you about one such child,</td>\n",
       "      <td>मई आपको ऐसे ही एक बच्चे के बारे में बताना चाहूंगी,</td>\n",
       "    </tr>\n",
       "    <tr>\n",
       "      <th>2</th>\n",
       "      <td>indic2012</td>\n",
       "      <td>This percentage is even greater than the percentage in India.</td>\n",
       "      <td>यह प्रतिशत भारत में हिन्दुओं प्रतिशत से अधिक है।</td>\n",
       "    </tr>\n",
       "    <tr>\n",
       "      <th>3</th>\n",
       "      <td>ted</td>\n",
       "      <td>what we really mean is that they're bad at not paying attention.</td>\n",
       "      <td>हम ये नहीं कहना चाहते कि वो ध्यान नहीं दे पाते</td>\n",
       "    </tr>\n",
       "    <tr>\n",
       "      <th>4</th>\n",
       "      <td>indic2012</td>\n",
       "      <td>.The ending portion of these Vedas is called Upanishad.</td>\n",
       "      <td>इन्हीं वेदों का अंतिम भाग उपनिषद कहलाता है।</td>\n",
       "    </tr>\n",
       "    <tr>\n",
       "      <th>5</th>\n",
       "      <td>tides</td>\n",
       "      <td>The then Governor of Kashmir resisted transfer , but was finally reduced to subjection with the aid of British .</td>\n",
       "      <td>कश्मीर के तत्कालीन गवर्नर ने इस हस्तांतरण का विरोध किया था , लेकिन अंग्रेजों की सहायता से उनकी आवाज दबा दी गयी .</td>\n",
       "    </tr>\n",
       "    <tr>\n",
       "      <th>6</th>\n",
       "      <td>indic2012</td>\n",
       "      <td>In this lies the circumstances of people before you.</td>\n",
       "      <td>इसमें तुमसे पूर्व गुज़रे हुए लोगों के हालात हैं।</td>\n",
       "    </tr>\n",
       "    <tr>\n",
       "      <th>7</th>\n",
       "      <td>ted</td>\n",
       "      <td>And who are we to say, even, that they are wrong</td>\n",
       "      <td>और हम होते कौन हैं यह कहने भी वाले कि वे गलत हैं</td>\n",
       "    </tr>\n",
       "    <tr>\n",
       "      <th>8</th>\n",
       "      <td>indic2012</td>\n",
       "      <td>“”Global Warming“” refer to warming caused in recent decades and probability of its continual presence and its indirect effect on human being.</td>\n",
       "      <td>ग्लोबल वॉर्मिंग से आशय हाल ही के दशकों में हुई वार्मिंग और इसके निरंतर बने रहने के अनुमान और इसके अप्रत्यक्ष रूप से मानव पर पड़ने वाले प्रभाव से है।</td>\n",
       "    </tr>\n",
       "    <tr>\n",
       "      <th>9</th>\n",
       "      <td>tides</td>\n",
       "      <td>You may want your child to go to a school that is not run by the LEA - a non-maintained special school or an independent school that can meet your child 's needs .</td>\n",
       "      <td>हो सकता है कि आप चाहते हों कि आप का नऋर्नमेनटेन्ड ह्यबिना किसी समर्थन के हृ विशेष स्कूल , या किसी स्वतंत्र स्कूल में जाए , इजसके पास विशेष शैक्षणिक जऋऋरतों वाले बच्चों के प्रति सहूलियत हों . .</td>\n",
       "    </tr>\n",
       "    <tr>\n",
       "      <th>10</th>\n",
       "      <td>tides</td>\n",
       "      <td>Please ensure that you use the appropriate form .</td>\n",
       "      <td>कृपया यह सुनिश्चित कर लें कि आप सही फॉर्म का प्रयोग कर रहें हैं .</td>\n",
       "    </tr>\n",
       "    <tr>\n",
       "      <th>11</th>\n",
       "      <td>indic2012</td>\n",
       "      <td>Category: Religious Text</td>\n",
       "      <td>श्रेणी:धर्मग्रन्थ</td>\n",
       "    </tr>\n",
       "    <tr>\n",
       "      <th>12</th>\n",
       "      <td>indic2012</td>\n",
       "      <td>This period summarily is pepped up with devotion.</td>\n",
       "      <td>यह काल समग्रतः भक्ति भावना से ओतप्रोत काल है।</td>\n",
       "    </tr>\n",
       "    <tr>\n",
       "      <th>13</th>\n",
       "      <td>ted</td>\n",
       "      <td>So there is some sort of justice</td>\n",
       "      <td>तो वहाँ न्याय है</td>\n",
       "    </tr>\n",
       "    <tr>\n",
       "      <th>14</th>\n",
       "      <td>tides</td>\n",
       "      <td>The first two were found unreliable and the prosecution case rested mainly on the evidence of the remaining five approvers .</td>\n",
       "      <td>पहले दो को अविश्वसनीय मानकर बाकी पांच मुखबिरों के आधार पर मुकदमा चलाया गया .</td>\n",
       "    </tr>\n",
       "    <tr>\n",
       "      <th>15</th>\n",
       "      <td>tides</td>\n",
       "      <td>They had justified their educational policy of concentrating on the education of a small number of upper and middle-class people with the argument that the new education would gradually ' filter down ' from above .</td>\n",
       "      <td>कम संख़्या वाले उच्च एवं मध्यम श्रेणी के लोगों तक ही अपनी शिक्षा नीति को केंद्रित करने को इस तर्क के साथ न्यायसंगत बताया कि नयी शिक्षा Zक्रमश : ऊपर से नीचे की ओर छनते हुए जायेगी .</td>\n",
       "    </tr>\n",
       "    <tr>\n",
       "      <th>16</th>\n",
       "      <td>indic2012</td>\n",
       "      <td>And now at present the naturecure, Ayurvedic and modern treatments are taking place through the government in Nepal.</td>\n",
       "      <td>हाल में नेपाल के हस्पताल सामन्यतया आयुर्वेद, प्राकृतिक चिकित्सा तथा आधुनिक चिकीत्सा करके सरकारी सेवा विद्यमान हे ।</td>\n",
       "    </tr>\n",
       "    <tr>\n",
       "      <th>17</th>\n",
       "      <td>indic2012</td>\n",
       "      <td>Parliament time frame is 5 years and this will be dissolved before that.</td>\n",
       "      <td>लोकसभा की कार्यावधि 5 वर्ष है पर्ंतु इसे समय से पूर्व भंग किया जा सकता है</td>\n",
       "    </tr>\n",
       "    <tr>\n",
       "      <th>18</th>\n",
       "      <td>tides</td>\n",
       "      <td>ii Register Courts , empowered to try causes for amounts not exceeding Rs 200 , when authorised by the judges .</td>\n",
       "      <td>रजिस्टर न्यायालय जिन्हें न्यायाधीश द्वारा प्राधिकृत किए जाने पर 200 रु . तक के वादों का निर्णय करने का अधिकार था .</td>\n",
       "    </tr>\n",
       "    <tr>\n",
       "      <th>19</th>\n",
       "      <td>indic2012</td>\n",
       "      <td>Extreme weather due to increased mortality; displacements and economic loss will be compounded through growing population. Although, temperate climate has some benefits out of it such as decreased mortality due to cold weather.</td>\n",
       "      <td>बढ़ती हुई मौतों displacements और आर्थिक नुकसान जो की अतिवादी मौसम (extreme weather)के कारण संभावित हैं बढती हुई जनसँख्या (growing population)के कारण और भी बदतर हो सकते हैं . हालांकि शीतोष्ण क्षेत्र में इसके कुछ फैदे भी हो सकते हैं जैसे की ठंड की वजह से कम मौतें होना .</td>\n",
       "    </tr>\n",
       "  </tbody>\n",
       "</table>\n",
       "</div>"
      ],
      "text/plain": [
       "       source                                                                                                                                                                                                                     english_sentence                                                                                                                                                                                                                                                                hindi_sentence\n",
       "0   ted        politicians do not have permission to do what needs to be done.                                                                                                                                                                      राजनीतिज्ञों के पास जो कार्य करना चाहिए, वह करने कि अनुमति नहीं है .                                                                                                                                                                                                        \n",
       "1   ted        I'd like to tell you about one such child,                                                                                                                                                                                           मई आपको ऐसे ही एक बच्चे के बारे में बताना चाहूंगी,                                                                                                                                                                                                                          \n",
       "2   indic2012  This percentage is even greater than the percentage in India.                                                                                                                                                                        यह प्रतिशत भारत में हिन्दुओं प्रतिशत से अधिक है।                                                                                                                                                                                                                            \n",
       "3   ted        what we really mean is that they're bad at not paying attention.                                                                                                                                                                     हम ये नहीं कहना चाहते कि वो ध्यान नहीं दे पाते                                                                                                                                                                                                                              \n",
       "4   indic2012  .The ending portion of these Vedas is called Upanishad.                                                                                                                                                                              इन्हीं वेदों का अंतिम भाग उपनिषद कहलाता है।                                                                                                                                                                                                                                 \n",
       "5   tides      The then Governor of Kashmir resisted transfer , but was finally reduced to subjection with the aid of British .                                                                                                                     कश्मीर के तत्कालीन गवर्नर ने इस हस्तांतरण का विरोध किया था , लेकिन अंग्रेजों की सहायता से उनकी आवाज दबा दी गयी .                                                                                                                                                            \n",
       "6   indic2012  In this lies the circumstances of people before you.                                                                                                                                                                                 इसमें तुमसे पूर्व गुज़रे हुए लोगों के हालात हैं।                                                                                                                                                                                                                            \n",
       "7   ted        And who are we to say, even, that they are wrong                                                                                                                                                                                     और हम होते कौन हैं यह कहने भी वाले कि वे गलत हैं                                                                                                                                                                                                                            \n",
       "8   indic2012  “”Global Warming“” refer to warming caused in recent decades and probability of its continual presence and its indirect effect on human being.                                                                                       ग्लोबल वॉर्मिंग से आशय हाल ही के दशकों में हुई वार्मिंग और इसके निरंतर बने रहने के अनुमान और इसके अप्रत्यक्ष रूप से मानव पर पड़ने वाले प्रभाव से है।                                                                                                                        \n",
       "9   tides      You may want your child to go to a school that is not run by the LEA - a non-maintained special school or an independent school that can meet your child 's needs .                                                                  हो सकता है कि आप चाहते हों कि आप का नऋर्नमेनटेन्ड ह्यबिना किसी समर्थन के हृ विशेष स्कूल , या किसी स्वतंत्र स्कूल में जाए , इजसके पास विशेष शैक्षणिक जऋऋरतों वाले बच्चों के प्रति सहूलियत हों . .                                                                            \n",
       "10  tides      Please ensure that you use the appropriate form .                                                                                                                                                                                    कृपया यह सुनिश्चित कर लें कि आप सही फॉर्म का प्रयोग कर रहें हैं .                                                                                                                                                                                                           \n",
       "11  indic2012  Category: Religious Text                                                                                                                                                                                                             श्रेणी:धर्मग्रन्थ                                                                                                                                                                                                                                                           \n",
       "12  indic2012  This period summarily is pepped up with devotion.                                                                                                                                                                                    यह काल समग्रतः भक्ति भावना से ओतप्रोत काल है।                                                                                                                                                                                                                               \n",
       "13  ted        So there is some sort of justice                                                                                                                                                                                                     तो वहाँ न्याय है                                                                                                                                                                                                                                                            \n",
       "14  tides      The first two were found unreliable and the prosecution case rested mainly on the evidence of the remaining five approvers .                                                                                                         पहले दो को अविश्वसनीय मानकर बाकी पांच मुखबिरों के आधार पर मुकदमा चलाया गया .                                                                                                                                                                                                \n",
       "15  tides      They had justified their educational policy of concentrating on the education of a small number of upper and middle-class people with the argument that the new education would gradually ' filter down ' from above .               कम संख़्या वाले उच्च एवं मध्यम श्रेणी के लोगों तक ही अपनी शिक्षा नीति को केंद्रित करने को इस तर्क के साथ न्यायसंगत बताया कि नयी शिक्षा Zक्रमश : ऊपर से नीचे की ओर छनते हुए जायेगी .                                                                                         \n",
       "16  indic2012  And now at present the naturecure, Ayurvedic and modern treatments are taking place through the government in Nepal.                                                                                                                 हाल में नेपाल के हस्पताल सामन्यतया आयुर्वेद, प्राकृतिक चिकित्सा तथा आधुनिक चिकीत्सा करके सरकारी सेवा विद्यमान हे ।                                                                                                                                                          \n",
       "17  indic2012  Parliament time frame is 5 years and this will be dissolved before that.                                                                                                                                                             लोकसभा की कार्यावधि 5 वर्ष है पर्ंतु इसे समय से पूर्व भंग किया जा सकता है                                                                                                                                                                                                   \n",
       "18  tides      ii Register Courts , empowered to try causes for amounts not exceeding Rs 200 , when authorised by the judges .                                                                                                                      रजिस्टर न्यायालय जिन्हें न्यायाधीश द्वारा प्राधिकृत किए जाने पर 200 रु . तक के वादों का निर्णय करने का अधिकार था .                                                                                                                                                          \n",
       "19  indic2012  Extreme weather due to increased mortality; displacements and economic loss will be compounded through growing population. Although, temperate climate has some benefits out of it such as decreased mortality due to cold weather.  बढ़ती हुई मौतों displacements और आर्थिक नुकसान जो की अतिवादी मौसम (extreme weather)के कारण संभावित हैं बढती हुई जनसँख्या (growing population)के कारण और भी बदतर हो सकते हैं . हालांकि शीतोष्ण क्षेत्र में इसके कुछ फैदे भी हो सकते हैं जैसे की ठंड की वजह से कम मौतें होना ."
      ]
     },
     "execution_count": 5,
     "metadata": {},
     "output_type": "execute_result"
    }
   ],
   "source": [
    "# Let's start with ted\n",
    "#lines=lines[lines['source']!='indic2012']\n",
    "lines.head(20)"
   ]
  },
  {
   "cell_type": "code",
   "execution_count": 6,
   "id": "21a572eb",
   "metadata": {
    "execution": {
     "iopub.execute_input": "2022-09-12T20:53:14.810253Z",
     "iopub.status.busy": "2022-09-12T20:53:14.809983Z",
     "iopub.status.idle": "2022-09-12T20:53:14.841157Z",
     "shell.execute_reply": "2022-09-12T20:53:14.840148Z"
    },
    "papermill": {
     "duration": 0.042824,
     "end_time": "2022-09-12T20:53:14.843303",
     "exception": false,
     "start_time": "2022-09-12T20:53:14.800479",
     "status": "completed"
    },
    "tags": []
   },
   "outputs": [
    {
     "data": {
      "text/plain": [
       "source              0\n",
       "english_sentence    2\n",
       "hindi_sentence      0\n",
       "dtype: int64"
      ]
     },
     "execution_count": 6,
     "metadata": {},
     "output_type": "execute_result"
    }
   ],
   "source": [
    "# check for empty rows\n",
    "pd.isnull(lines).sum()"
   ]
  },
  {
   "cell_type": "code",
   "execution_count": 7,
   "id": "e5b152bd",
   "metadata": {
    "execution": {
     "iopub.execute_input": "2022-09-12T20:53:14.863824Z",
     "iopub.status.busy": "2022-09-12T20:53:14.862774Z",
     "iopub.status.idle": "2022-09-12T20:53:14.886428Z",
     "shell.execute_reply": "2022-09-12T20:53:14.885601Z"
    },
    "papermill": {
     "duration": 0.035479,
     "end_time": "2022-09-12T20:53:14.888445",
     "exception": false,
     "start_time": "2022-09-12T20:53:14.852966",
     "status": "completed"
    },
    "tags": []
   },
   "outputs": [],
   "source": [
    "# for ted we don't have any null values but if present use below code\n",
    "lines=lines[~pd.isnull(lines['english_sentence'])]"
   ]
  },
  {
   "cell_type": "code",
   "execution_count": 8,
   "id": "875171aa",
   "metadata": {
    "execution": {
     "iopub.execute_input": "2022-09-12T20:53:14.907930Z",
     "iopub.status.busy": "2022-09-12T20:53:14.907112Z",
     "iopub.status.idle": "2022-09-12T20:53:15.125873Z",
     "shell.execute_reply": "2022-09-12T20:53:15.124745Z"
    },
    "papermill": {
     "duration": 0.231255,
     "end_time": "2022-09-12T20:53:15.128505",
     "exception": false,
     "start_time": "2022-09-12T20:53:14.897250",
     "status": "completed"
    },
    "tags": []
   },
   "outputs": [
    {
     "data": {
      "text/plain": [
       "(124827, 3)"
      ]
     },
     "execution_count": 8,
     "metadata": {},
     "output_type": "execute_result"
    }
   ],
   "source": [
    "# drop any duplicate lines\n",
    "lines.drop_duplicates(inplace=True)\n",
    "lines.shape"
   ]
  },
  {
   "cell_type": "code",
   "execution_count": 9,
   "id": "f798abad",
   "metadata": {
    "execution": {
     "iopub.execute_input": "2022-09-12T20:53:15.148073Z",
     "iopub.status.busy": "2022-09-12T20:53:15.147766Z",
     "iopub.status.idle": "2022-09-12T20:53:15.300178Z",
     "shell.execute_reply": "2022-09-12T20:53:15.299141Z"
    },
    "papermill": {
     "duration": 0.164963,
     "end_time": "2022-09-12T20:53:15.302767",
     "exception": false,
     "start_time": "2022-09-12T20:53:15.137804",
     "status": "completed"
    },
    "tags": []
   },
   "outputs": [],
   "source": [
    "# Lowercase all characters\n",
    "lines['english_sentence']=lines['english_sentence'].apply(lambda x: x.lower())\n",
    "lines['hindi_sentence']=lines['hindi_sentence'].apply(lambda x: x.lower())"
   ]
  },
  {
   "cell_type": "code",
   "execution_count": 10,
   "id": "7b098295",
   "metadata": {
    "execution": {
     "iopub.execute_input": "2022-09-12T20:53:15.323672Z",
     "iopub.status.busy": "2022-09-12T20:53:15.321989Z",
     "iopub.status.idle": "2022-09-12T20:53:18.315672Z",
     "shell.execute_reply": "2022-09-12T20:53:18.314507Z"
    },
    "papermill": {
     "duration": 3.006105,
     "end_time": "2022-09-12T20:53:18.318165",
     "exception": false,
     "start_time": "2022-09-12T20:53:15.312060",
     "status": "completed"
    },
    "tags": []
   },
   "outputs": [],
   "source": [
    "exclude = set(string.punctuation) # Set of all special characters\n",
    "# Remove all the special characters\n",
    "lines['english_sentence']=lines['english_sentence'].apply(lambda x: ''.join(ch for ch in x if ch not in exclude))\n",
    "lines['hindi_sentence']=lines['hindi_sentence'].apply(lambda x: ''.join(ch for ch in x if ch not in exclude))"
   ]
  },
  {
   "cell_type": "code",
   "execution_count": 11,
   "id": "7ee80106",
   "metadata": {
    "execution": {
     "iopub.execute_input": "2022-09-12T20:53:18.340197Z",
     "iopub.status.busy": "2022-09-12T20:53:18.339883Z",
     "iopub.status.idle": "2022-09-12T20:53:18.435823Z",
     "shell.execute_reply": "2022-09-12T20:53:18.434840Z"
    },
    "papermill": {
     "duration": 0.10903,
     "end_time": "2022-09-12T20:53:18.438276",
     "exception": false,
     "start_time": "2022-09-12T20:53:18.329246",
     "status": "completed"
    },
    "tags": []
   },
   "outputs": [],
   "source": [
    "# Remove extra spaces\n",
    "lines['english_sentence']=lines['english_sentence'].apply(lambda x: x.strip())\n",
    "lines['hindi_sentence']=lines['hindi_sentence'].apply(lambda x: x.strip())"
   ]
  },
  {
   "cell_type": "code",
   "execution_count": 12,
   "id": "f6bc1cce",
   "metadata": {
    "execution": {
     "iopub.execute_input": "2022-09-12T20:53:18.458009Z",
     "iopub.status.busy": "2022-09-12T20:53:18.457304Z",
     "iopub.status.idle": "2022-09-12T20:53:18.543157Z",
     "shell.execute_reply": "2022-09-12T20:53:18.542299Z"
    },
    "papermill": {
     "duration": 0.09768,
     "end_time": "2022-09-12T20:53:18.545180",
     "exception": false,
     "start_time": "2022-09-12T20:53:18.447500",
     "status": "completed"
    },
    "tags": []
   },
   "outputs": [
    {
     "data": {
      "text/html": [
       "<div>\n",
       "<style scoped>\n",
       "    .dataframe tbody tr th:only-of-type {\n",
       "        vertical-align: middle;\n",
       "    }\n",
       "\n",
       "    .dataframe tbody tr th {\n",
       "        vertical-align: top;\n",
       "    }\n",
       "\n",
       "    .dataframe thead th {\n",
       "        text-align: right;\n",
       "    }\n",
       "</style>\n",
       "<table border=\"1\" class=\"dataframe\">\n",
       "  <thead>\n",
       "    <tr style=\"text-align: right;\">\n",
       "      <th></th>\n",
       "      <th>source</th>\n",
       "      <th>english_sentence</th>\n",
       "      <th>hindi_sentence</th>\n",
       "    </tr>\n",
       "  </thead>\n",
       "  <tbody>\n",
       "    <tr>\n",
       "      <th>0</th>\n",
       "      <td>ted</td>\n",
       "      <td>politicians do not have permission to do what needs to be done</td>\n",
       "      <td>start राजनीतिज्ञों के पास जो कार्य करना चाहिए वह करने कि अनुमति नहीं है stop</td>\n",
       "    </tr>\n",
       "    <tr>\n",
       "      <th>1</th>\n",
       "      <td>ted</td>\n",
       "      <td>id like to tell you about one such child</td>\n",
       "      <td>start मई आपको ऐसे ही एक बच्चे के बारे में बताना चाहूंगी stop</td>\n",
       "    </tr>\n",
       "    <tr>\n",
       "      <th>2</th>\n",
       "      <td>indic2012</td>\n",
       "      <td>this percentage is even greater than the percentage in india</td>\n",
       "      <td>start यह प्रतिशत भारत में हिन्दुओं प्रतिशत से अधिक है। stop</td>\n",
       "    </tr>\n",
       "    <tr>\n",
       "      <th>3</th>\n",
       "      <td>ted</td>\n",
       "      <td>what we really mean is that theyre bad at not paying attention</td>\n",
       "      <td>start हम ये नहीं कहना चाहते कि वो ध्यान नहीं दे पाते stop</td>\n",
       "    </tr>\n",
       "    <tr>\n",
       "      <th>4</th>\n",
       "      <td>indic2012</td>\n",
       "      <td>the ending portion of these vedas is called upanishad</td>\n",
       "      <td>start इन्हीं वेदों का अंतिम भाग उपनिषद कहलाता है। stop</td>\n",
       "    </tr>\n",
       "  </tbody>\n",
       "</table>\n",
       "</div>"
      ],
      "text/plain": [
       "      source                                                english_sentence                                                                hindi_sentence\n",
       "0  ted        politicians do not have permission to do what needs to be done  start राजनीतिज्ञों के पास जो कार्य करना चाहिए वह करने कि अनुमति नहीं है stop\n",
       "1  ted        id like to tell you about one such child                        start मई आपको ऐसे ही एक बच्चे के बारे में बताना चाहूंगी stop                \n",
       "2  indic2012  this percentage is even greater than the percentage in india    start यह प्रतिशत भारत में हिन्दुओं प्रतिशत से अधिक है। stop                 \n",
       "3  ted        what we really mean is that theyre bad at not paying attention  start हम ये नहीं कहना चाहते कि वो ध्यान नहीं दे पाते stop                   \n",
       "4  indic2012  the ending portion of these vedas is called upanishad           start इन्हीं वेदों का अंतिम भाग उपनिषद कहलाता है। stop                      "
      ]
     },
     "execution_count": 12,
     "metadata": {},
     "output_type": "execute_result"
    }
   ],
   "source": [
    "# Add start and end tokens to target sequences\n",
    "lines['hindi_sentence'] = lines['hindi_sentence'].apply(lambda x : 'start '+ x + ' stop')\n",
    "lines.head()"
   ]
  },
  {
   "cell_type": "code",
   "execution_count": 13,
   "id": "961a9c01",
   "metadata": {
    "execution": {
     "iopub.execute_input": "2022-09-12T20:53:18.564963Z",
     "iopub.status.busy": "2022-09-12T20:53:18.564671Z",
     "iopub.status.idle": "2022-09-12T20:53:18.938296Z",
     "shell.execute_reply": "2022-09-12T20:53:18.937355Z"
    },
    "papermill": {
     "duration": 0.386141,
     "end_time": "2022-09-12T20:53:18.940612",
     "exception": false,
     "start_time": "2022-09-12T20:53:18.554471",
     "status": "completed"
    },
    "tags": []
   },
   "outputs": [
    {
     "data": {
      "text/html": [
       "<div>\n",
       "<style scoped>\n",
       "    .dataframe tbody tr th:only-of-type {\n",
       "        vertical-align: middle;\n",
       "    }\n",
       "\n",
       "    .dataframe tbody tr th {\n",
       "        vertical-align: top;\n",
       "    }\n",
       "\n",
       "    .dataframe thead th {\n",
       "        text-align: right;\n",
       "    }\n",
       "</style>\n",
       "<table border=\"1\" class=\"dataframe\">\n",
       "  <thead>\n",
       "    <tr style=\"text-align: right;\">\n",
       "      <th></th>\n",
       "      <th>source</th>\n",
       "      <th>english_sentence</th>\n",
       "      <th>hindi_sentence</th>\n",
       "      <th>length_eng_sentence</th>\n",
       "      <th>length_hin_sentence</th>\n",
       "    </tr>\n",
       "  </thead>\n",
       "  <tbody>\n",
       "    <tr>\n",
       "      <th>0</th>\n",
       "      <td>ted</td>\n",
       "      <td>politicians do not have permission to do what needs to be done</td>\n",
       "      <td>start राजनीतिज्ञों के पास जो कार्य करना चाहिए वह करने कि अनुमति नहीं है stop</td>\n",
       "      <td>12</td>\n",
       "      <td>15</td>\n",
       "    </tr>\n",
       "    <tr>\n",
       "      <th>1</th>\n",
       "      <td>ted</td>\n",
       "      <td>id like to tell you about one such child</td>\n",
       "      <td>start मई आपको ऐसे ही एक बच्चे के बारे में बताना चाहूंगी stop</td>\n",
       "      <td>9</td>\n",
       "      <td>13</td>\n",
       "    </tr>\n",
       "    <tr>\n",
       "      <th>2</th>\n",
       "      <td>indic2012</td>\n",
       "      <td>this percentage is even greater than the percentage in india</td>\n",
       "      <td>start यह प्रतिशत भारत में हिन्दुओं प्रतिशत से अधिक है। stop</td>\n",
       "      <td>10</td>\n",
       "      <td>11</td>\n",
       "    </tr>\n",
       "    <tr>\n",
       "      <th>3</th>\n",
       "      <td>ted</td>\n",
       "      <td>what we really mean is that theyre bad at not paying attention</td>\n",
       "      <td>start हम ये नहीं कहना चाहते कि वो ध्यान नहीं दे पाते stop</td>\n",
       "      <td>12</td>\n",
       "      <td>13</td>\n",
       "    </tr>\n",
       "    <tr>\n",
       "      <th>4</th>\n",
       "      <td>indic2012</td>\n",
       "      <td>the ending portion of these vedas is called upanishad</td>\n",
       "      <td>start इन्हीं वेदों का अंतिम भाग उपनिषद कहलाता है। stop</td>\n",
       "      <td>9</td>\n",
       "      <td>10</td>\n",
       "    </tr>\n",
       "  </tbody>\n",
       "</table>\n",
       "</div>"
      ],
      "text/plain": [
       "      source                                                english_sentence                                                                hindi_sentence  length_eng_sentence  length_hin_sentence\n",
       "0  ted        politicians do not have permission to do what needs to be done  start राजनीतिज्ञों के पास जो कार्य करना चाहिए वह करने कि अनुमति नहीं है stop  12                   15                 \n",
       "1  ted        id like to tell you about one such child                        start मई आपको ऐसे ही एक बच्चे के बारे में बताना चाहूंगी stop                  9                    13                 \n",
       "2  indic2012  this percentage is even greater than the percentage in india    start यह प्रतिशत भारत में हिन्दुओं प्रतिशत से अधिक है। stop                   10                   11                 \n",
       "3  ted        what we really mean is that theyre bad at not paying attention  start हम ये नहीं कहना चाहते कि वो ध्यान नहीं दे पाते stop                     12                   13                 \n",
       "4  indic2012  the ending portion of these vedas is called upanishad           start इन्हीं वेदों का अंतिम भाग उपनिषद कहलाता है। stop                        9                    10                 "
      ]
     },
     "execution_count": 13,
     "metadata": {},
     "output_type": "execute_result"
    }
   ],
   "source": [
    "# get hindi and english word counts in each sentence\n",
    "lines['length_eng_sentence']=lines['english_sentence'].apply(lambda x:len(x.split(\" \")))\n",
    "lines['length_hin_sentence']=lines['hindi_sentence'].apply(lambda x:len(x.split(\" \")))\n",
    "lines.head()"
   ]
  },
  {
   "cell_type": "code",
   "execution_count": 14,
   "id": "2b145e25",
   "metadata": {
    "execution": {
     "iopub.execute_input": "2022-09-12T20:53:18.963815Z",
     "iopub.status.busy": "2022-09-12T20:53:18.963489Z",
     "iopub.status.idle": "2022-09-12T20:53:19.297119Z",
     "shell.execute_reply": "2022-09-12T20:53:19.296240Z"
    },
    "papermill": {
     "duration": 0.348754,
     "end_time": "2022-09-12T20:53:19.299144",
     "exception": false,
     "start_time": "2022-09-12T20:53:18.950390",
     "status": "completed"
    },
    "tags": []
   },
   "outputs": [
    {
     "data": {
      "image/png": "[encoded data removed]",
      "text/plain": [
       "<Figure size 432x288 with 2 Axes>"
      ]
     },
     "metadata": {
      "needs_background": "light"
     },
     "output_type": "display_data"
    }
   ],
   "source": [
    "import matplotlib.pyplot as plt\n",
    "\n",
    "lines[['length_eng_sentence', 'length_hin_sentence']].hist(bins = 20)\n",
    "plt.show()\n"
   ]
  },
  {
   "cell_type": "code",
   "execution_count": 15,
   "id": "146d0f21",
   "metadata": {
    "execution": {
     "iopub.execute_input": "2022-09-12T20:53:19.319566Z",
     "iopub.status.busy": "2022-09-12T20:53:19.319267Z",
     "iopub.status.idle": "2022-09-12T20:53:19.352179Z",
     "shell.execute_reply": "2022-09-12T20:53:19.351163Z"
    },
    "papermill": {
     "duration": 0.046073,
     "end_time": "2022-09-12T20:53:19.354921",
     "exception": false,
     "start_time": "2022-09-12T20:53:19.308848",
     "status": "completed"
    },
    "tags": []
   },
   "outputs": [
    {
     "name": "stdout",
     "output_type": "stream",
     "text": [
      "0.9759907712273787\n"
     ]
    }
   ],
   "source": [
    "# Check how much % of english text have 0-15 words\n",
    "cnt=0\n",
    "for i in lines['length_eng_sentence']:\n",
    "    if i<=50:\n",
    "        cnt=cnt+1\n",
    "print(cnt/len(lines['length_eng_sentence']))"
   ]
  },
  {
   "cell_type": "code",
   "execution_count": 16,
   "id": "0633140d",
   "metadata": {
    "execution": {
     "iopub.execute_input": "2022-09-12T20:53:19.376056Z",
     "iopub.status.busy": "2022-09-12T20:53:19.375141Z",
     "iopub.status.idle": "2022-09-12T20:53:19.406197Z",
     "shell.execute_reply": "2022-09-12T20:53:19.404897Z"
    },
    "papermill": {
     "duration": 0.043457,
     "end_time": "2022-09-12T20:53:19.408244",
     "exception": false,
     "start_time": "2022-09-12T20:53:19.364787",
     "status": "completed"
    },
    "tags": []
   },
   "outputs": [
    {
     "name": "stdout",
     "output_type": "stream",
     "text": [
      "0.9759907712273787\n"
     ]
    }
   ],
   "source": [
    "# Check how much % of hindi text have 0-20 words\n",
    "cnt=0\n",
    "for i in lines['length_eng_sentence']:\n",
    "    if i<=50:\n",
    "        cnt=cnt+1\n",
    "print(cnt/len(lines['length_eng_sentence']))\n"
   ]
  },
  {
   "cell_type": "code",
   "execution_count": 17,
   "id": "4a189f3e",
   "metadata": {
    "execution": {
     "iopub.execute_input": "2022-09-12T20:53:19.428644Z",
     "iopub.status.busy": "2022-09-12T20:53:19.428344Z",
     "iopub.status.idle": "2022-09-12T20:53:19.432388Z",
     "shell.execute_reply": "2022-09-12T20:53:19.431458Z"
    },
    "papermill": {
     "duration": 0.016344,
     "end_time": "2022-09-12T20:53:19.434298",
     "exception": false,
     "start_time": "2022-09-12T20:53:19.417954",
     "status": "completed"
    },
    "tags": []
   },
   "outputs": [],
   "source": [
    "# Model to translate the text between 0-15 words for english and 0-20 words for hindi\n",
    "max_length_src=50\n",
    "max_length_tar=50"
   ]
  },
  {
   "cell_type": "code",
   "execution_count": 18,
   "id": "27679ad7",
   "metadata": {
    "execution": {
     "iopub.execute_input": "2022-09-12T20:53:19.454843Z",
     "iopub.status.busy": "2022-09-12T20:53:19.454073Z",
     "iopub.status.idle": "2022-09-12T20:53:19.484448Z",
     "shell.execute_reply": "2022-09-12T20:53:19.483385Z"
    },
    "papermill": {
     "duration": 0.042785,
     "end_time": "2022-09-12T20:53:19.486507",
     "exception": false,
     "start_time": "2022-09-12T20:53:19.443722",
     "status": "completed"
    },
    "tags": []
   },
   "outputs": [
    {
     "data": {
      "text/plain": [
       "(119658, 5)"
      ]
     },
     "execution_count": 18,
     "metadata": {},
     "output_type": "execute_result"
    }
   ],
   "source": [
    "# filter out lines with max words as above\n",
    "lines=lines[lines['length_eng_sentence']<=max_length_src]\n",
    "lines=lines[lines['length_hin_sentence']<=max_length_tar]\n",
    "lines.shape"
   ]
  },
  {
   "cell_type": "code",
   "execution_count": 19,
   "id": "407de740",
   "metadata": {
    "execution": {
     "iopub.execute_input": "2022-09-12T20:53:19.507827Z",
     "iopub.status.busy": "2022-09-12T20:53:19.507013Z",
     "iopub.status.idle": "2022-09-12T20:53:19.532422Z",
     "shell.execute_reply": "2022-09-12T20:53:19.531297Z"
    },
    "papermill": {
     "duration": 0.038207,
     "end_time": "2022-09-12T20:53:19.534494",
     "exception": false,
     "start_time": "2022-09-12T20:53:19.496287",
     "status": "completed"
    },
    "tags": []
   },
   "outputs": [
    {
     "data": {
      "text/plain": [
       "((95726,), (23932,))"
      ]
     },
     "execution_count": 19,
     "metadata": {},
     "output_type": "execute_result"
    }
   ],
   "source": [
    "X, y = lines['english_sentence'], lines['hindi_sentence']\n",
    "X_train, X_val, y_train, y_val = train_test_split(X, y, test_size=0.2, shuffle=True,\n",
    "                                                    random_state=42)\n",
    "X_train.shape, X_val.shape"
   ]
  },
  {
   "cell_type": "code",
   "execution_count": 20,
   "id": "9c8f5179",
   "metadata": {
    "execution": {
     "iopub.execute_input": "2022-09-12T20:53:19.556325Z",
     "iopub.status.busy": "2022-09-12T20:53:19.555670Z",
     "iopub.status.idle": "2022-09-12T20:53:21.586036Z",
     "shell.execute_reply": "2022-09-12T20:53:21.584886Z"
    },
    "papermill": {
     "duration": 2.043571,
     "end_time": "2022-09-12T20:53:21.588486",
     "exception": false,
     "start_time": "2022-09-12T20:53:19.544915",
     "status": "completed"
    },
    "tags": []
   },
   "outputs": [],
   "source": [
    "# Lets tokenize the text to get the vocab count , you can use Spacy here also\n",
    "\n",
    "from keras.preprocessing.text import Tokenizer \n",
    "from keras.preprocessing.sequence import pad_sequences\n",
    "\n",
    "# prepare a tokenizer on training data\n",
    "x_tokenizer = Tokenizer() \n",
    "x_tokenizer.fit_on_texts(list(X_train))"
   ]
  },
  {
   "cell_type": "code",
   "execution_count": 21,
   "id": "7452ba90",
   "metadata": {
    "execution": {
     "iopub.execute_input": "2022-09-12T20:53:21.611179Z",
     "iopub.status.busy": "2022-09-12T20:53:21.610281Z",
     "iopub.status.idle": "2022-09-12T20:53:21.648202Z",
     "shell.execute_reply": "2022-09-12T20:53:21.647244Z"
    },
    "papermill": {
     "duration": 0.051582,
     "end_time": "2022-09-12T20:53:21.650435",
     "exception": false,
     "start_time": "2022-09-12T20:53:21.598853",
     "status": "completed"
    },
    "tags": []
   },
   "outputs": [
    {
     "name": "stdout",
     "output_type": "stream",
     "text": [
      "% of rare words in vocabulary: 71.9088972107438\n",
      "Total Coverage of rare words: 4.641379788530157\n"
     ]
    }
   ],
   "source": [
    "# minimum frequency for common word category\n",
    "thresh=4\n",
    "\n",
    "rare_word_cnt=0\n",
    "tot_cnt=0\n",
    "rare_word_freq=0\n",
    "tot_freq=0\n",
    "\n",
    "for key, value in x_tokenizer.word_counts.items():\n",
    "    tot_cnt = tot_cnt+1\n",
    "    tot_freq = tot_freq+value\n",
    "    if(value<thresh):\n",
    "        rare_word_cnt = rare_word_cnt+1\n",
    "        rare_word_freq = rare_word_freq+value\n",
    "    \n",
    "print(\"% of rare words in vocabulary:\",(rare_word_cnt/tot_cnt)*100)\n",
    "print(\"Total Coverage of rare words:\",(rare_word_freq/tot_freq)*100)"
   ]
  },
  {
   "cell_type": "code",
   "execution_count": 22,
   "id": "2a3deb64",
   "metadata": {
    "execution": {
     "iopub.execute_input": "2022-09-12T20:53:21.671251Z",
     "iopub.status.busy": "2022-09-12T20:53:21.670967Z",
     "iopub.status.idle": "2022-09-12T20:53:25.668594Z",
     "shell.execute_reply": "2022-09-12T20:53:25.666523Z"
    },
    "papermill": {
     "duration": 4.011835,
     "end_time": "2022-09-12T20:53:25.671993",
     "exception": false,
     "start_time": "2022-09-12T20:53:21.660158",
     "status": "completed"
    },
    "tags": []
   },
   "outputs": [
    {
     "name": "stdout",
     "output_type": "stream",
     "text": [
      "Size of vocabulary in X = 61953\n"
     ]
    }
   ],
   "source": [
    "# prepare a tokenizer as per above count on training data\n",
    "x_tokenizer = Tokenizer(num_words = tot_cnt)#tot_cnt-rare_word_cnt) \n",
    "x_tokenizer.fit_on_texts(list(X_train))\n",
    "\n",
    "# convert text sequences into integer sequences (i.e one-hot encodeing all the words)\n",
    "x_tr_seq    =   x_tokenizer.texts_to_sequences(X_train) \n",
    "x_val_seq   =   x_tokenizer.texts_to_sequences(X_val)\n",
    "\n",
    "# padding zero upto maximum length\n",
    "x_tr    =   pad_sequences(x_tr_seq,  maxlen=max_length_src, padding='post')\n",
    "x_val   =   pad_sequences(x_val_seq, maxlen=max_length_src, padding='post')\n",
    "\n",
    "# size of vocabulary ( +1 for padding token as it is not present in tokenizer vocab)\n",
    "x_voc   =  x_tokenizer.num_words + 1\n",
    "\n",
    "print(\"Size of vocabulary in X = {}\".format(x_voc))"
   ]
  },
  {
   "cell_type": "code",
   "execution_count": 23,
   "id": "2e057501",
   "metadata": {
    "execution": {
     "iopub.execute_input": "2022-09-12T20:53:25.694581Z",
     "iopub.status.busy": "2022-09-12T20:53:25.692937Z",
     "iopub.status.idle": "2022-09-12T20:53:28.332945Z",
     "shell.execute_reply": "2022-09-12T20:53:28.331739Z"
    },
    "papermill": {
     "duration": 2.653678,
     "end_time": "2022-09-12T20:53:28.335812",
     "exception": false,
     "start_time": "2022-09-12T20:53:25.682134",
     "status": "completed"
    },
    "tags": []
   },
   "outputs": [
    {
     "name": "stdout",
     "output_type": "stream",
     "text": [
      "% of rare words in vocabulary: 67.78627065589285\n",
      "Total Coverage of rare words: 4.051320133118982\n"
     ]
    }
   ],
   "source": [
    "# prepare a tokenizer on training data\n",
    "y_tokenizer = Tokenizer() \n",
    "y_tokenizer.fit_on_texts(list(y_train))\n",
    "\n",
    "# minimum frequency for common word category\n",
    "thresh=4\n",
    "\n",
    "rare_word_cnt=0\n",
    "tot_cnt=0\n",
    "rare_word_freq=0\n",
    "tot_freq=0\n",
    "\n",
    "for key, value in y_tokenizer.word_counts.items():\n",
    "    tot_cnt = tot_cnt+1\n",
    "    tot_freq = tot_freq+value\n",
    "    if(value<thresh):\n",
    "        rare_word_cnt = rare_word_cnt+1\n",
    "        rare_word_freq = rare_word_freq+value\n",
    "    \n",
    "print(\"% of rare words in vocabulary:\",(rare_word_cnt/tot_cnt)*100)\n",
    "print(\"Total Coverage of rare words:\",(rare_word_freq/tot_freq)*100)"
   ]
  },
  {
   "cell_type": "code",
   "execution_count": 24,
   "id": "1e93a2a1",
   "metadata": {
    "execution": {
     "iopub.execute_input": "2022-09-12T20:53:28.360152Z",
     "iopub.status.busy": "2022-09-12T20:53:28.359297Z",
     "iopub.status.idle": "2022-09-12T20:53:34.452576Z",
     "shell.execute_reply": "2022-09-12T20:53:34.451579Z"
    },
    "papermill": {
     "duration": 6.107853,
     "end_time": "2022-09-12T20:53:34.454924",
     "exception": false,
     "start_time": "2022-09-12T20:53:28.347071",
     "status": "completed"
    },
    "tags": []
   },
   "outputs": [],
   "source": [
    "# prepare a tokenizer as per above count on training data\n",
    "y_tokenizer = Tokenizer(num_words = tot_cnt)#tot_cnt-rare_word_cnt) \n",
    "y_tokenizer.fit_on_texts(list(y_train))\n",
    "\n",
    "# convert text sequences into integer sequences (i.e one-hot encodeing all the words)\n",
    "y_tr_seq    =   y_tokenizer.texts_to_sequences(y_train) \n",
    "y_val_seq   =   y_tokenizer.texts_to_sequences(y_val)\n",
    "\n",
    "# padding zero upto maximum length\n",
    "y_tr    =   pad_sequences(y_tr_seq,  maxlen=max_length_tar, padding='post')\n",
    "y_val   =   pad_sequences(y_val_seq, maxlen=max_length_tar, padding='post')\n",
    "\n",
    "# size of vocabulary ( +1 for padding token as it is not present in tokenizer vocab)\n",
    "y_voc   =  y_tokenizer.num_words + 1"
   ]
  },
  {
   "cell_type": "code",
   "execution_count": 25,
   "id": "4099e228",
   "metadata": {
    "execution": {
     "iopub.execute_input": "2022-09-12T20:53:34.476892Z",
     "iopub.status.busy": "2022-09-12T20:53:34.476286Z",
     "iopub.status.idle": "2022-09-12T20:53:34.481989Z",
     "shell.execute_reply": "2022-09-12T20:53:34.481081Z"
    },
    "papermill": {
     "duration": 0.019132,
     "end_time": "2022-09-12T20:53:34.484439",
     "exception": false,
     "start_time": "2022-09-12T20:53:34.465307",
     "status": "completed"
    },
    "tags": []
   },
   "outputs": [
    {
     "name": "stdout",
     "output_type": "stream",
     "text": [
      "Size of vocabulary in X = 68686\n"
     ]
    }
   ],
   "source": [
    "print(\"Size of vocabulary in X = {}\".format(y_voc))"
   ]
  },
  {
   "cell_type": "code",
   "execution_count": 26,
   "id": "b4514218",
   "metadata": {
    "execution": {
     "iopub.execute_input": "2022-09-12T20:53:34.505526Z",
     "iopub.status.busy": "2022-09-12T20:53:34.505230Z",
     "iopub.status.idle": "2022-09-12T20:53:37.664383Z",
     "shell.execute_reply": "2022-09-12T20:53:37.663442Z"
    },
    "papermill": {
     "duration": 3.172624,
     "end_time": "2022-09-12T20:53:37.666931",
     "exception": false,
     "start_time": "2022-09-12T20:53:34.494307",
     "status": "completed"
    },
    "tags": []
   },
   "outputs": [
    {
     "name": "stderr",
     "output_type": "stream",
     "text": [
      "2022-09-12 20:53:34.605752: I tensorflow/stream_executor/cuda/cuda_gpu_executor.cc:937] successful NUMA node read from SysFS had negative value (-1), but there must be at least one NUMA node, so returning NUMA node zero\n",
      "2022-09-12 20:53:34.745612: I tensorflow/stream_executor/cuda/cuda_gpu_executor.cc:937] successful NUMA node read from SysFS had negative value (-1), but there must be at least one NUMA node, so returning NUMA node zero\n",
      "2022-09-12 20:53:34.746390: I tensorflow/stream_executor/cuda/cuda_gpu_executor.cc:937] successful NUMA node read from SysFS had negative value (-1), but there must be at least one NUMA node, so returning NUMA node zero\n",
      "2022-09-12 20:53:34.747838: I tensorflow/core/platform/cpu_feature_guard.cc:142] This TensorFlow binary is optimized with oneAPI Deep Neural Network Library (oneDNN) to use the following CPU instructions in performance-critical operations:  AVX2 AVX512F FMA\n",
      "To enable them in other operations, rebuild TensorFlow with the appropriate compiler flags.\n",
      "2022-09-12 20:53:34.748185: I tensorflow/stream_executor/cuda/cuda_gpu_executor.cc:937] successful NUMA node read from SysFS had negative value (-1), but there must be at least one NUMA node, so returning NUMA node zero\n",
      "2022-09-12 20:53:34.749139: I tensorflow/stream_executor/cuda/cuda_gpu_executor.cc:937] successful NUMA node read from SysFS had negative value (-1), but there must be at least one NUMA node, so returning NUMA node zero\n",
      "2022-09-12 20:53:34.750036: I tensorflow/stream_executor/cuda/cuda_gpu_executor.cc:937] successful NUMA node read from SysFS had negative value (-1), but there must be at least one NUMA node, so returning NUMA node zero\n",
      "2022-09-12 20:53:37.117383: I tensorflow/stream_executor/cuda/cuda_gpu_executor.cc:937] successful NUMA node read from SysFS had negative value (-1), but there must be at least one NUMA node, so returning NUMA node zero\n",
      "2022-09-12 20:53:37.118283: I tensorflow/stream_executor/cuda/cuda_gpu_executor.cc:937] successful NUMA node read from SysFS had negative value (-1), but there must be at least one NUMA node, so returning NUMA node zero\n",
      "2022-09-12 20:53:37.119042: I tensorflow/stream_executor/cuda/cuda_gpu_executor.cc:937] successful NUMA node read from SysFS had negative value (-1), but there must be at least one NUMA node, so returning NUMA node zero\n",
      "2022-09-12 20:53:37.119781: I tensorflow/core/common_runtime/gpu/gpu_device.cc:1510] Created device /job:localhost/replica:0/task:0/device:GPU:0 with 15401 MB memory:  -> device: 0, name: Tesla P100-PCIE-16GB, pci bus id: 0000:00:04.0, compute capability: 6.0\n"
     ]
    }
   ],
   "source": [
    "# Encoder\n",
    "embedding_dim = 300\n",
    "latent_dim = 300\n",
    "\n",
    "encoder_inputs = Input(shape=(max_length_src,))\n",
    "\n",
    "# Embedding Layer\n",
    "enc_emb =  Embedding(x_voc, embedding_dim)(encoder_inputs)\n",
    "\n",
    "# LSTM layer\n",
    "#encoder_lstm = CuDNNLSTM(latent_dim, return_state=True)\n",
    "encoder_lstm = LSTM(latent_dim, return_state=True, recurrent_dropout=0.2)\n",
    "encoder_outputs, state_h, state_c = encoder_lstm(enc_emb)\n",
    "\n",
    "# We discard 'encoder_outputs' and only keep the states.\n",
    "encoder_states = [state_h, state_c]"
   ]
  },
  {
   "cell_type": "code",
   "execution_count": 27,
   "id": "b510b842",
   "metadata": {
    "execution": {
     "iopub.execute_input": "2022-09-12T20:53:37.690269Z",
     "iopub.status.busy": "2022-09-12T20:53:37.688518Z",
     "iopub.status.idle": "2022-09-12T20:53:37.837343Z",
     "shell.execute_reply": "2022-09-12T20:53:37.836370Z"
    },
    "papermill": {
     "duration": 0.162545,
     "end_time": "2022-09-12T20:53:37.839926",
     "exception": false,
     "start_time": "2022-09-12T20:53:37.677381",
     "status": "completed"
    },
    "tags": []
   },
   "outputs": [],
   "source": [
    "# Set up the decoder, using 'encoder_states' as initial input.\n",
    "decoder_inputs = Input(shape=(None,))\n",
    "\n",
    "# Embedding layer\n",
    "dec_emb_layer = Embedding(y_voc, embedding_dim)\n",
    "dec_emb = dec_emb_layer(decoder_inputs)\n",
    "\n",
    "# We set up our decoder to return full output sequences,\n",
    "# and to return internal states as well. We don't use the\n",
    "# return states in the training model, but we will use them in inference.\n",
    "#decoder_lstm = CuDNNLSTM(latent_dim, return_sequences=True, return_state=True)\n",
    "decoder_lstm = LSTM(latent_dim, return_sequences=True, return_state=True, recurrent_dropout=0.2)\n",
    "decoder_outputs, _, _ = decoder_lstm(dec_emb, initial_state=encoder_states)\n",
    "\n",
    "# Dense layer\n",
    "decoder_dense = TimeDistributed(Dense(y_voc, activation='softmax'))\n",
    "decoder_outputs = decoder_dense(decoder_outputs)\n",
    "\n",
    "# Define the model that will turn\n",
    "# 'encoder_input_data' & 'decoder_input_data' into 'decoder_target_data'\n",
    "model = Model([encoder_inputs, decoder_inputs], decoder_outputs)\n",
    "\n",
    "# compile the model\n",
    "# using sparse categorical crossentropy as we are using time distributed output\n",
    "model.compile(optimizer='rmsprop', loss='sparse_categorical_crossentropy')"
   ]
  },
  {
   "cell_type": "code",
   "execution_count": 28,
   "id": "cdc9a45c",
   "metadata": {
    "execution": {
     "iopub.execute_input": "2022-09-12T20:53:37.862636Z",
     "iopub.status.busy": "2022-09-12T20:53:37.862025Z",
     "iopub.status.idle": "2022-09-12T20:53:37.869378Z",
     "shell.execute_reply": "2022-09-12T20:53:37.868211Z"
    },
    "papermill": {
     "duration": 0.021286,
     "end_time": "2022-09-12T20:53:37.871945",
     "exception": false,
     "start_time": "2022-09-12T20:53:37.850659",
     "status": "completed"
    },
    "tags": []
   },
   "outputs": [
    {
     "name": "stdout",
     "output_type": "stream",
     "text": [
      "Model: \"model\"\n",
      "__________________________________________________________________________________________________\n",
      "Layer (type)                    Output Shape         Param #     Connected to                     \n",
      "==================================================================================================\n",
      "input_1 (InputLayer)            [(None, 50)]         0                                            \n",
      "__________________________________________________________________________________________________\n",
      "input_2 (InputLayer)            [(None, None)]       0                                            \n",
      "__________________________________________________________________________________________________\n",
      "embedding (Embedding)           (None, 50, 300)      18585900    input_1[0][0]                    \n",
      "__________________________________________________________________________________________________\n",
      "embedding_1 (Embedding)         (None, None, 300)    20605800    input_2[0][0]                    \n",
      "__________________________________________________________________________________________________\n",
      "lstm (LSTM)                     [(None, 300), (None, 721200      embedding[0][0]                  \n",
      "__________________________________________________________________________________________________\n",
      "lstm_1 (LSTM)                   [(None, None, 300),  721200      embedding_1[0][0]                \n",
      "                                                                 lstm[0][1]                       \n",
      "                                                                 lstm[0][2]                       \n",
      "__________________________________________________________________________________________________\n",
      "time_distributed (TimeDistribut (None, None, 68686)  20674486    lstm_1[0][0]                     \n",
      "==================================================================================================\n",
      "Total params: 61,308,586\n",
      "Trainable params: 61,308,586\n",
      "Non-trainable params: 0\n",
      "__________________________________________________________________________________________________\n"
     ]
    }
   ],
   "source": [
    "model.summary()"
   ]
  },
  {
   "cell_type": "code",
   "execution_count": 29,
   "id": "469e7c6a",
   "metadata": {
    "execution": {
     "iopub.execute_input": "2022-09-12T20:53:37.894903Z",
     "iopub.status.busy": "2022-09-12T20:53:37.894085Z",
     "iopub.status.idle": "2022-09-12T20:53:37.899158Z",
     "shell.execute_reply": "2022-09-12T20:53:37.898234Z"
    },
    "papermill": {
     "duration": 0.018329,
     "end_time": "2022-09-12T20:53:37.901138",
     "exception": false,
     "start_time": "2022-09-12T20:53:37.882809",
     "status": "completed"
    },
    "tags": []
   },
   "outputs": [],
   "source": [
    "train_samples = len(x_tr)\n",
    "val_samples = len(x_val)\n",
    "batch_size = 128\n",
    "epochs = 15"
   ]
  },
  {
   "cell_type": "code",
   "execution_count": 30,
   "id": "4840aede",
   "metadata": {
    "execution": {
     "iopub.execute_input": "2022-09-12T20:53:37.923833Z",
     "iopub.status.busy": "2022-09-12T20:53:37.922764Z",
     "iopub.status.idle": "2022-09-12T22:59:32.789883Z",
     "shell.execute_reply": "2022-09-12T22:59:32.788901Z"
    },
    "papermill": {
     "duration": 7555.456054,
     "end_time": "2022-09-12T22:59:33.367255",
     "exception": false,
     "start_time": "2022-09-12T20:53:37.911201",
     "status": "completed"
    },
    "tags": []
   },
   "outputs": [
    {
     "name": "stderr",
     "output_type": "stream",
     "text": [
      "2022-09-12 20:53:38.039644: I tensorflow/compiler/mlir/mlir_graph_optimization_pass.cc:185] None of the MLIR Optimization Passes are enabled (registered 2)\n"
     ]
    },
    {
     "name": "stdout",
     "output_type": "stream",
     "text": [
      "Epoch 1/15\n",
      "748/748 [==============================] - 503s 666ms/step - loss: 2.3317 - val_loss: 1.9903\n",
      "Epoch 2/15\n",
      "748/748 [==============================] - 501s 670ms/step - loss: 2.0053 - val_loss: 1.8578\n",
      "Epoch 3/15\n",
      "748/748 [==============================] - 500s 669ms/step - loss: 1.8789 - val_loss: 1.7703\n",
      "Epoch 4/15\n",
      "748/748 [==============================] - 503s 672ms/step - loss: 1.7847 - val_loss: 1.7078\n",
      "Epoch 5/15\n",
      "748/748 [==============================] - 502s 671ms/step - loss: 1.7094 - val_loss: 1.6623\n",
      "Epoch 6/15\n",
      "748/748 [==============================] - 503s 673ms/step - loss: 1.6486 - val_loss: 1.6317\n",
      "Epoch 7/15\n",
      "748/748 [==============================] - 502s 671ms/step - loss: 1.5964 - val_loss: 1.6045\n",
      "Epoch 8/15\n",
      "748/748 [==============================] - 504s 673ms/step - loss: 1.5481 - val_loss: 1.5822\n",
      "Epoch 9/15\n",
      "748/748 [==============================] - 504s 673ms/step - loss: 1.5050 - val_loss: 1.5682\n",
      "Epoch 10/15\n",
      "748/748 [==============================] - 505s 675ms/step - loss: 1.4653 - val_loss: 1.5542\n",
      "Epoch 11/15\n",
      "748/748 [==============================] - 506s 676ms/step - loss: 1.4269 - val_loss: 1.5453\n",
      "Epoch 12/15\n",
      "748/748 [==============================] - 506s 676ms/step - loss: 1.3926 - val_loss: 1.5359\n",
      "Epoch 13/15\n",
      "748/748 [==============================] - 506s 676ms/step - loss: 1.3622 - val_loss: 1.5311\n",
      "Epoch 14/15\n",
      "748/748 [==============================] - 505s 676ms/step - loss: 1.3317 - val_loss: 1.5289\n",
      "Epoch 15/15\n",
      "748/748 [==============================] - 505s 675ms/step - loss: 1.3019 - val_loss: 1.5233\n"
     ]
    }
   ],
   "source": [
    "history = model.fit([x_tr, y_tr[:,:-1]], y_tr.reshape(y_tr.shape[0], y_tr.shape[1], 1)[:,1:], \n",
    "                  batch_size=batch_size,\n",
    "                  #steps_per_epoch = train_samples//batch_size,\n",
    "                  epochs=epochs,\n",
    "                  validation_data = ([x_val,y_val[:,:-1]], y_val.reshape(y_val.shape[0],y_val.shape[1], 1)[:,1:]),\n",
    "                  #validation_steps = val_samples//batch_size\n",
    "                   )"
   ]
  },
  {
   "cell_type": "code",
   "execution_count": 31,
   "id": "9394de52",
   "metadata": {
    "execution": {
     "iopub.execute_input": "2022-09-12T22:59:34.595690Z",
     "iopub.status.busy": "2022-09-12T22:59:34.594857Z",
     "iopub.status.idle": "2022-09-12T22:59:34.789801Z",
     "shell.execute_reply": "2022-09-12T22:59:34.788841Z"
    },
    "papermill": {
     "duration": 0.844037,
     "end_time": "2022-09-12T22:59:34.791834",
     "exception": false,
     "start_time": "2022-09-12T22:59:33.947797",
     "status": "completed"
    },
    "tags": []
   },
   "outputs": [
    {
     "data": {
      "image/png": "[encoded data removed]",
      "text/plain": [
       "<Figure size 432x288 with 1 Axes>"
      ]
     },
     "metadata": {
      "needs_background": "light"
     },
     "output_type": "display_data"
    }
   ],
   "source": [
    "from matplotlib import pyplot\n",
    "pyplot.plot(history.history['loss'], label='train')\n",
    "pyplot.plot(history.history['val_loss'], label='test')\n",
    "pyplot.legend()\n",
    "pyplot.show()"
   ]
  },
  {
   "cell_type": "code",
   "execution_count": 32,
   "id": "5bdf8653",
   "metadata": {
    "execution": {
     "iopub.execute_input": "2022-09-12T22:59:35.963198Z",
     "iopub.status.busy": "2022-09-12T22:59:35.962177Z",
     "iopub.status.idle": "2022-09-12T22:59:35.967702Z",
     "shell.execute_reply": "2022-09-12T22:59:35.966821Z"
    },
    "papermill": {
     "duration": 0.594187,
     "end_time": "2022-09-12T22:59:35.969676",
     "exception": false,
     "start_time": "2022-09-12T22:59:35.375489",
     "status": "completed"
    },
    "tags": []
   },
   "outputs": [],
   "source": [
    "#Next, let’s build the dictionary to convert the index to word for target and source vocabulary:"
   ]
  },
  {
   "cell_type": "code",
   "execution_count": 33,
   "id": "2906957c",
   "metadata": {
    "execution": {
     "iopub.execute_input": "2022-09-12T22:59:37.189543Z",
     "iopub.status.busy": "2022-09-12T22:59:37.188302Z",
     "iopub.status.idle": "2022-09-12T22:59:37.194117Z",
     "shell.execute_reply": "2022-09-12T22:59:37.193182Z"
    },
    "papermill": {
     "duration": 0.589521,
     "end_time": "2022-09-12T22:59:37.196089",
     "exception": false,
     "start_time": "2022-09-12T22:59:36.606568",
     "status": "completed"
    },
    "tags": []
   },
   "outputs": [],
   "source": [
    "reverse_target_word_index = y_tokenizer.index_word\n",
    "reverse_source_word_index = x_tokenizer.index_word\n",
    "target_word_index = y_tokenizer.word_index"
   ]
  },
  {
   "cell_type": "code",
   "execution_count": 34,
   "id": "dfb94167",
   "metadata": {
    "execution": {
     "iopub.execute_input": "2022-09-12T22:59:38.438221Z",
     "iopub.status.busy": "2022-09-12T22:59:38.437710Z",
     "iopub.status.idle": "2022-09-12T22:59:38.544063Z",
     "shell.execute_reply": "2022-09-12T22:59:38.543133Z"
    },
    "papermill": {
     "duration": 0.708378,
     "end_time": "2022-09-12T22:59:38.546390",
     "exception": false,
     "start_time": "2022-09-12T22:59:37.838012",
     "status": "completed"
    },
    "tags": []
   },
   "outputs": [],
   "source": [
    "# Encode the input sequence to get the feature vector\n",
    "# encoder model input and out are taken directly from model defined earlier\n",
    "encoder_model = Model(encoder_inputs, encoder_states)\n",
    "\n",
    "# Decoder setup\n",
    "# Below tensors will hold the states of the previous time step\n",
    "decoder_state_input_h = Input(shape=(latent_dim,))\n",
    "decoder_state_input_c = Input(shape=(latent_dim,))\n",
    "decoder_states_inputs = [decoder_state_input_h, decoder_state_input_c]\n",
    "\n",
    "# Get the embeddings of the decoder sequence\n",
    "dec_emb2 = dec_emb_layer(decoder_inputs)\n",
    "\n",
    "# To predict the next word in the sequence, \n",
    "# set the initial states to the states from the previous time step\n",
    "decoder_outputs2, state_h2, state_c2 = decoder_lstm(dec_emb2, \n",
    "                                                    initial_state=decoder_states_inputs)\n",
    "decoder_states2 = [state_h2, state_c2]\n",
    "\n",
    "# A dense softmax layer to generate prob dist. over the target vocabulary\n",
    "decoder_outputs2 = decoder_dense(decoder_outputs2) \n",
    "\n",
    "# Final decoder model\n",
    "decoder_model = Model(\n",
    "    [decoder_inputs] + decoder_states_inputs,\n",
    "    [decoder_outputs2] + decoder_states2)"
   ]
  },
  {
   "cell_type": "code",
   "execution_count": 35,
   "id": "64e0fb34",
   "metadata": {
    "execution": {
     "iopub.execute_input": "2022-09-12T22:59:39.781670Z",
     "iopub.status.busy": "2022-09-12T22:59:39.781275Z",
     "iopub.status.idle": "2022-09-12T22:59:39.787493Z",
     "shell.execute_reply": "2022-09-12T22:59:39.786562Z"
    },
    "papermill": {
     "duration": 0.653759,
     "end_time": "2022-09-12T22:59:39.790821",
     "exception": false,
     "start_time": "2022-09-12T22:59:39.137062",
     "status": "completed"
    },
    "tags": []
   },
   "outputs": [
    {
     "name": "stdout",
     "output_type": "stream",
     "text": [
      "Model: \"model_2\"\n",
      "__________________________________________________________________________________________________\n",
      "Layer (type)                    Output Shape         Param #     Connected to                     \n",
      "==================================================================================================\n",
      "input_2 (InputLayer)            [(None, None)]       0                                            \n",
      "__________________________________________________________________________________________________\n",
      "embedding_1 (Embedding)         (None, None, 300)    20605800    input_2[0][0]                    \n",
      "__________________________________________________________________________________________________\n",
      "input_3 (InputLayer)            [(None, 300)]        0                                            \n",
      "__________________________________________________________________________________________________\n",
      "input_4 (InputLayer)            [(None, 300)]        0                                            \n",
      "__________________________________________________________________________________________________\n",
      "lstm_1 (LSTM)                   [(None, None, 300),  721200      embedding_1[1][0]                \n",
      "                                                                 input_3[0][0]                    \n",
      "                                                                 input_4[0][0]                    \n",
      "__________________________________________________________________________________________________\n",
      "time_distributed (TimeDistribut (None, None, 68686)  20674486    lstm_1[1][0]                     \n",
      "==================================================================================================\n",
      "Total params: 42,001,486\n",
      "Trainable params: 42,001,486\n",
      "Non-trainable params: 0\n",
      "__________________________________________________________________________________________________\n"
     ]
    }
   ],
   "source": [
    "decoder_model.summary()"
   ]
  },
  {
   "cell_type": "code",
   "execution_count": 36,
   "id": "17d28ffc",
   "metadata": {
    "execution": {
     "iopub.execute_input": "2022-09-12T22:59:41.258581Z",
     "iopub.status.busy": "2022-09-12T22:59:41.257560Z",
     "iopub.status.idle": "2022-09-12T22:59:41.262345Z",
     "shell.execute_reply": "2022-09-12T22:59:41.261440Z"
    },
    "papermill": {
     "duration": 0.826721,
     "end_time": "2022-09-12T22:59:41.264366",
     "exception": false,
     "start_time": "2022-09-12T22:59:40.437645",
     "status": "completed"
    },
    "tags": []
   },
   "outputs": [],
   "source": [
    "#We are defining a function below which is the implementation of the inference process"
   ]
  },
  {
   "cell_type": "code",
   "execution_count": 37,
   "id": "2eb3bfee",
   "metadata": {
    "execution": {
     "iopub.execute_input": "2022-09-12T22:59:42.479768Z",
     "iopub.status.busy": "2022-09-12T22:59:42.479420Z",
     "iopub.status.idle": "2022-09-12T22:59:42.488438Z",
     "shell.execute_reply": "2022-09-12T22:59:42.487612Z"
    },
    "papermill": {
     "duration": 0.64986,
     "end_time": "2022-09-12T22:59:42.490441",
     "exception": false,
     "start_time": "2022-09-12T22:59:41.840581",
     "status": "completed"
    },
    "tags": []
   },
   "outputs": [],
   "source": [
    "def decode_sequence(input_seq):\n",
    "    # Encode the input as state vectors.\n",
    "    e_h, e_c = encoder_model.predict(input_seq)\n",
    "    \n",
    "    # Generate empty target sequence of length 1.\n",
    "    target_seq = np.zeros((1,1))\n",
    "    \n",
    "    # Populate the first character of target sequence with the start word.\n",
    "    target_seq[0, 0] = target_word_index['start']\n",
    "\n",
    "    # Sampling loop for a batch of sequences\n",
    "    # (to simplify, here we assume a batch of size 1).\n",
    "    stop_condition = False\n",
    "    decoded_sentence = ''\n",
    "    while not stop_condition:\n",
    "        output_tokens, h, c = decoder_model.predict([target_seq] + [e_h, e_c])\n",
    "\n",
    "        # Sample a token\n",
    "        sampled_token_index = np.argmax(output_tokens[0, -1, :])\n",
    "        sampled_token = reverse_target_word_index[sampled_token_index]\n",
    "\n",
    "        if(sampled_token!='stop'):\n",
    "            decoded_sentence += ' '+sampled_token\n",
    "            \n",
    "        # Exit condition: either hit max length or find stop word.\n",
    "        if (sampled_token == 'stop' or len(decoded_sentence.split()) >= (max_length_tar-1)):\n",
    "            stop_condition = True\n",
    "\n",
    "        # Update the target sequence (of length 1).\n",
    "        target_seq = np.zeros((1,1))\n",
    "        target_seq[0, 0] = sampled_token_index\n",
    "\n",
    "        # Update states\n",
    "        e_h, e_c = [h, c]\n",
    "\n",
    "    return decoded_sentence"
   ]
  },
  {
   "cell_type": "code",
   "execution_count": 38,
   "id": "0d80311c",
   "metadata": {
    "execution": {
     "iopub.execute_input": "2022-09-12T22:59:43.649607Z",
     "iopub.status.busy": "2022-09-12T22:59:43.649236Z",
     "iopub.status.idle": "2022-09-12T22:59:43.653949Z",
     "shell.execute_reply": "2022-09-12T22:59:43.652911Z"
    },
    "papermill": {
     "duration": 0.586645,
     "end_time": "2022-09-12T22:59:43.656397",
     "exception": false,
     "start_time": "2022-09-12T22:59:43.069752",
     "status": "completed"
    },
    "tags": []
   },
   "outputs": [],
   "source": [
    "#Let us define the functions to convert an integer sequence to a word sequence for input"
   ]
  },
  {
   "cell_type": "code",
   "execution_count": 39,
   "id": "1531a359",
   "metadata": {
    "execution": {
     "iopub.execute_input": "2022-09-12T22:59:44.880990Z",
     "iopub.status.busy": "2022-09-12T22:59:44.880632Z",
     "iopub.status.idle": "2022-09-12T22:59:44.886568Z",
     "shell.execute_reply": "2022-09-12T22:59:44.885567Z"
    },
    "papermill": {
     "duration": 0.589811,
     "end_time": "2022-09-12T22:59:44.888543",
     "exception": false,
     "start_time": "2022-09-12T22:59:44.298732",
     "status": "completed"
    },
    "tags": []
   },
   "outputs": [],
   "source": [
    "def eng2text(input_seq):\n",
    "    newString=''\n",
    "    for i in input_seq:\n",
    "        if(i!=0):\n",
    "            newString=newString+reverse_source_word_index[i]+' '\n",
    "    return newString\n",
    "\n",
    "def hindi2text(input_seq):\n",
    "    newString=''\n",
    "    for i in input_seq:\n",
    "        if(i!=0):\n",
    "            newString=newString+reverse_target_word_index[i]+' '\n",
    "    return newString"
   ]
  },
  {
   "cell_type": "code",
   "execution_count": 40,
   "id": "1abecdd1",
   "metadata": {
    "execution": {
     "iopub.execute_input": "2022-09-12T22:59:46.109569Z",
     "iopub.status.busy": "2022-09-12T22:59:46.109039Z",
     "iopub.status.idle": "2022-09-12T22:59:54.431056Z",
     "shell.execute_reply": "2022-09-12T22:59:54.429962Z"
    },
    "papermill": {
     "duration": 8.967024,
     "end_time": "2022-09-12T22:59:54.433655",
     "exception": false,
     "start_time": "2022-09-12T22:59:45.466631",
     "status": "completed"
    },
    "tags": []
   },
   "outputs": [
    {
     "name": "stdout",
     "output_type": "stream",
     "text": [
      "English Sentence:  contrary to widelyheld belief subhas got the impression that tagore was not fundamentally opposed to the concept of noncooperation but had important reservations \n",
      "Actual Hindi Translation: start उनसे बातचीत के बाद सुभाष ने महसूस किया कि आम धारणा के विपरीत कवींद्र मूलतया असहयोग के विरोधी नहीं हैं पर उनकी एक महत्वपूर्ण सलाह थी stop \n",
      "Machine Hindi Translation:   सुभाष चन्द्र को यह भी था कि उन्होंने अपने को विशेष रूप से लिया था लेकिन वे महात्मा गांधी के सामने नहीं बल्कि यह भी कि एक महत्वपूर्ण बात नहीं थी\n",
      "\n",
      "\n",
      "English Sentence:  this is inside out \n",
      "Actual Hindi Translation: start इसे मैं अन्दर से बाहर उलटना inside out कहता हूँ। stop \n",
      "Machine Hindi Translation:   यह है कि\n",
      "\n",
      "\n",
      "English Sentence:  we identify with all that is in the world \n",
      "Actual Hindi Translation: start आप पूरे संसार को अपना परिवार मानने लगते है stop \n",
      "Machine Hindi Translation:   हम दुनिया को देख रहे हैं वो सब से जानते हैं\n",
      "\n",
      "\n",
      "English Sentence:  the brain stem is the nerve tissue that makes up the lowest part of the brain and connects with the spinal cord \n",
      "Actual Hindi Translation: start दिमाग का तना ह्यब्रेन स्टेमहृ तंत्रिकाओं का कोश ह्यनर्व टिश्युहृ होता है ऋससे दिमाग के नीचे का सब से नीचे का हिस्सा बनता है और मेरूरज्जु ह्यस्पाइनल कोर्डहृ के साथ जुडऋआ होता है stop \n",
      "Machine Hindi Translation:   दिमाग का दिमाग का दिमाग है और इस तरह के दिमाग की सबसे शक्तिशाली कोशिकाओं और शरीर के बीच की सबसे बड़ी मात्रा में क्या है\n",
      "\n",
      "\n",
      "English Sentence:  sspe lrb a delayed complication of measles that causes brain damage and death rrb \n",
      "Actual Hindi Translation: start श्श्फै ह्य मेअस्लेस् का बहुत देरी से होने वाला परिणाम ऋस से मेंदु को बुरी तरह से नुकसान हो सकता है और मऋत भी आ सकती है stop \n",
      "Machine Hindi Translation:   हृदय में हृदय रोग का जन्म किसी प्रकार की आयु के बाद से ही हो सकता है जब तक कि आप को कम कर सकते हैं\n",
      "\n",
      "\n",
      "English Sentence:  so the question was can it actually find marijuana in students lockers \n",
      "Actual Hindi Translation: start तो सवाल था क्या यह वास्तव में छात्रों लाकर्स में मारिजुआना खोज सकता है stop \n",
      "Machine Hindi Translation:   तो यह सवाल था कि वास्तव में इस में आप में से कुछ लोग जिन्होंने इन द्वीपों को एक लिया\n",
      "\n",
      "\n",
      "English Sentence:  this should not deter them from choosing the best side they can and facing the criticism bravely \n",
      "Actual Hindi Translation: start इसपर भी उन्हें अपनी ओर से सर्वश्रेष्ठ टीम का चुनाव करना चाहिए और अपनी आलोचना का मुक़ाबला बहादुरी से करना चाहिए stop \n",
      "Machine Hindi Translation:   यह भी संभव है कि वे अपनी ओर से अधिक मजबूत कर सकते हैं कि वे अपनी पत्नी को सुरक्षित रखने के लिए अपनी क्षमता के लिए दो या अधिक होते हैं\n",
      "\n",
      "\n",
      "English Sentence:  hang \n",
      "Actual Hindi Translation: start फ़ाँसी stop \n",
      "Machine Hindi Translation:   क्यों\n",
      "\n",
      "\n",
      "English Sentence:  its telling us that something is going wrong \n",
      "Actual Hindi Translation: start यह बता रहा है की कुछ गलत हो रहा है stop \n",
      "Machine Hindi Translation:   यह तो हमें लगता है कि हम एक गलत बात करते हैं\n",
      "\n",
      "\n",
      "English Sentence:  lose organization of two or more organizer country group \n",
      "Actual Hindi Translation: start दो या अधिक संघटको का ढीला संघठन रास्त्र मन्डल stop \n",
      "Machine Hindi Translation:   दो या दो या अधिक बड़े पैमाने पर\n",
      "\n",
      "\n"
     ]
    }
   ],
   "source": [
    "for i in range(0,10):\n",
    "    print(\"English Sentence: \",eng2text(x_tr[i]))\n",
    "    print('Actual Hindi Translation:', hindi2text(y_tr[i]))\n",
    "    print(\"Machine Hindi Translation: \",decode_sequence(x_tr[i].reshape(1,max_length_src)))\n",
    "    print(\"\\n\")"
   ]
  },
  {
   "cell_type": "code",
   "execution_count": 41,
   "id": "8189e8f4",
   "metadata": {
    "execution": {
     "iopub.execute_input": "2022-09-12T22:59:56.014012Z",
     "iopub.status.busy": "2022-09-12T22:59:56.013649Z",
     "iopub.status.idle": "2022-09-12T22:59:56.376133Z",
     "shell.execute_reply": "2022-09-12T22:59:56.374296Z"
    },
    "papermill": {
     "duration": 1.031195,
     "end_time": "2022-09-12T22:59:56.378287",
     "exception": false,
     "start_time": "2022-09-12T22:59:55.347092",
     "status": "completed"
    },
    "tags": []
   },
   "outputs": [
    {
     "name": "stdout",
     "output_type": "stream",
     "text": [
      "English Sentence:  he is living with his wife\n",
      "Machine hindi Translation:   उसके पास उनके पास ही है\n"
     ]
    }
   ],
   "source": [
    "input_text =  'he is living with his wife'\n",
    "ip_seq = x_tokenizer.texts_to_sequences([input_text])\n",
    "ip_pad = pad_sequences(ip_seq,  maxlen=max_length_src, padding='post')\n",
    "print(\"English Sentence: \", input_text)\n",
    "print(\"Machine hindi Translation: \", decode_sequence(ip_pad[0].reshape(1,max_length_src)))"
   ]
  },
  {
   "cell_type": "code",
   "execution_count": null,
   "id": "b64285b4",
   "metadata": {
    "papermill": {
     "duration": 0.580359,
     "end_time": "2022-09-12T22:59:57.601585",
     "exception": false,
     "start_time": "2022-09-12T22:59:57.021226",
     "status": "completed"
    },
    "tags": []
   },
   "outputs": [],
   "source": []
  }
 ],
 "metadata": {
  "kernelspec": {
   "display_name": "Python 3",
   "language": "python",
   "name": "python3"
  },
  "language_info": {
   "codemirror_mode": {
    "name": "ipython",
    "version": 3
   },
   "file_extension": ".py",
   "mimetype": "text/x-python",
   "name": "python",
   "nbconvert_exporter": "python",
   "pygments_lexer": "ipython3",
   "version": "3.7.12"
  },
  "papermill": {
   "default_parameters": {},
   "duration": 7622.308531,
   "end_time": "2022-09-12T23:00:01.780066",
   "environment_variables": {},
   "exception": null,
   "input_path": "__notebook__.ipynb",
   "output_path": "__notebook__.ipynb",
   "parameters": {},
   "start_time": "2022-09-12T20:52:59.471535",
   "version": "2.3.4"
  }
 },
 "nbformat": 4,
 "nbformat_minor": 5
}
